{
 "cells": [
  {
   "cell_type": "markdown",
   "metadata": {},
   "source": [
    "# HW3 - MLP & CNN\n",
    "\n",
    "- A multi-layer perceptron (MLP) is a type of artificial neural network consisting of multiple layers of neurons\n",
    "- A convolutional neural network (CNN) is a regularized type of feed-forward neural network that learns features by itself via filter (or kernel) optimization.\n",
    "\n",
    "<img src=\"https://media.datacamp.com/legacy/v1725638284/image_bd3b978959.png\" height=250 width=400> <img src=\"https://cdn.analyticsvidhya.com/wp-content/uploads/2024/10/59954intro-to-CNN.webp\" height=250 width=400>\n",
    "\n"
   ]
  }
 ],
 "metadata": {
  "language_info": {
   "name": "python"
  }
 },
 "nbformat": 4,
 "nbformat_minor": 2
}
